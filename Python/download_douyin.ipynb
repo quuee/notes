{
 "cells": [
  {
   "cell_type": "markdown",
   "id": "3b2ed01c",
   "metadata": {},
   "source": [
    "# 抖音网页版视频链接 在[get_peer](https://vc-gate-edge.ndcpp.com/sdk/get_peer)请求中，这个请求会带上文件url\n",
    "```json\n",
    "{\n",
    "  file_info:{\n",
    "    cdn_url:\"\"\n",
    "  }\n",
    "}\n",
    "```\n",
    "\n",
    "# 另一个请求也会有文件url信息，但是在devTools没有格式化，不好找url。[list](https://mcs.zijieapi.com/list)\n",
    "```json\n",
    "{\n",
    "  0:{\n",
    "    events:[\n",
    "      {},\n",
    "      {\n",
    "        params:{\n",
    "          initial_url:\"\"\n",
    "        }\n",
    "      }\n",
    "    ]\n",
    "  }\n",
    "}\n",
    "```\n",
    "\n",
    "# 有时候在元素里会刷新真实的链接，比如在收藏里上下滑动，但是这样浏览器很卡，内存占用越来越大\n",
    "# 无法下载，即使手动下载，下太多会403"
   ]
  },
  {
   "cell_type": "code",
   "execution_count": 9,
   "id": "005041e4",
   "metadata": {},
   "outputs": [
    {
     "name": "stdout",
     "output_type": "stream",
     "text": [
      "返回的状态码：403\n"
     ]
    }
   ],
   "source": [
    "# 有些视频在edge里可以播放，但是无法保存下载\n",
    "import requests\n",
    "\n",
    "headers = {\n",
    "    'user-agent':'Mozilla/5.0 (Windows NT 10.0; Win64; x64) AppleWebKit/537.36 (KHTML, like Gecko) Chrome/135.0.0.0 Safari/537.36 Edg/135.0.0.0',\n",
    "    'referer':'https://www.douyin.com/',\n",
    "    'origin':'https://www.douyin.com',\n",
    "    'host':'v3-web.douyinvod.com',\n",
    "    'if-range':'B3AB74DE4DC9590EF64AF0418C96961F'\n",
    "}\n",
    "\n",
    "def download_video(url, output_path):\n",
    "    # 发送HTTP GET请求\n",
    "    response = requests.get(url, stream=True)\n",
    "    print(f'返回的状态码：{response.status_code}')\n",
    "    if(response.status_code == 403) :\n",
    "        return #返回403 请求头有问题？\n",
    "    # 确保请求成功\n",
    "    response.raise_for_status()\n",
    "    # 下载视频\n",
    "    with open(output_path, 'wb') as file:\n",
    "        for chunk in response.iter_content(chunk_size=8192):\n",
    "            file.write(chunk)\n",
    "\n",
    "# 示例：将视频下载到当前目录下的video.mp4文件中\n",
    "video_url = 'https://v3-web.douyinvod.com/d6e24b7dd59f527bbbd0329fc0acf020/6814e1f3/video/tos/cn/tos-cn-ve-15/okQAZAIbTBkiat4B6I2oZzLbEvFPTQLsb3JKi/?a=6383&ch=42&cr=3&dr=0&lr=all&cd=0%7C0%7C0%7C3&cv=1&br=4123&bt=4123&cs=0&ds=6&ft=4TMWc6DhppftQzL8Zso.C_fauVq0InTNPVGc6BdPpL2XVQdHDDx4Q~GOXdm2TusZ.&mime_type=video_mp4&qs=1&rc=PDxkZGg4aWQ5NTdmZTg5NkBpanU3Z205cnJlMzMzNGkzM0AzNGA2XzRgNWAxXmEwNi4tYSMyam9mMmRraTZhLS1kLWFzcw%3D%3D&btag=c0000e00008000&cquery=100o_101r_100B_100x_100z&dy_q=1746188217&feature_id=46a7bb47b4fd1280f3d3825bf2b29388&l=20250502201657BAB8B9151E6546DDD819&__vid=7499264979750112527'\n",
    "download_video(video_url, 'C:/Users/GMK_M7/Downloads/video.mp4')"
   ]
  }
 ],
 "metadata": {
  "kernelspec": {
   "display_name": "scrapy",
   "language": "python",
   "name": "python3"
  },
  "language_info": {
   "codemirror_mode": {
    "name": "ipython",
    "version": 3
   },
   "file_extension": ".py",
   "mimetype": "text/x-python",
   "name": "python",
   "nbconvert_exporter": "python",
   "pygments_lexer": "ipython3",
   "version": "3.12.9"
  }
 },
 "nbformat": 4,
 "nbformat_minor": 5
}
