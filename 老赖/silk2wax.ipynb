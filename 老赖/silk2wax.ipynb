{
 "cells": [
  {
   "cell_type": "markdown",
   "id": "790aed18",
   "metadata": {},
   "source": [
    "# 微信录音silk 转wav"
   ]
  },
  {
   "cell_type": "code",
   "execution_count": null,
   "id": "39be9936",
   "metadata": {},
   "outputs": [],
   "source": [
    "import pysilk\n",
    "import os\n",
    "\n",
    "target_directory = \"C:\\\\Users\\\\GMK_M7\\\\Music\\\\wx_record\"  # 目标目录\n",
    "\n",
    "def silk_to_wav(silk_path, wav_path, sample_rate=24000):\n",
    "    \"\"\"\n",
    "    将SILK文件转换为WAV格式\n",
    "    :param silk_path: 输入的SILK文件路径\n",
    "    :param wav_path: 输出的WAV文件路径\n",
    "    :param sample_rate: 采样率(Hz)，默认为24000\n",
    "    \"\"\"\n",
    "    # 读取SILK文件\n",
    "    with open(silk_path, 'rb') as silk_file:\n",
    "        silk_data = silk_file.read()\n",
    "\n",
    "    # 转换为WAV格式\n",
    "    wav_data = pysilk.decode(silk_data, sample_rate=sample_rate)\n",
    "\n",
    "    # 保存WAV文件\n",
    "    with open(wav_path, 'wb') as wav_file:\n",
    "        wav_file.write(wav_data)\n",
    "\n",
    "\n",
    "target_file_path = os.path.join(target_directory, 'output.wav')\n",
    "# 使用示例\n",
    "silk_to_wav(r'C:\\Users\\GMK_M7\\Documents\\xwechat_files\\wxid_ru9u4bffpro312_508d\\msg\\attach\\9e20f478899dc29eb19741386f9343c8\\2025-05\\Rec\\a53813cd765a1ad8\\F\\191\\191.silk', target_file_path)"
   ]
  },
  {
   "cell_type": "code",
   "execution_count": null,
   "id": "36e08e1b",
   "metadata": {},
   "outputs": [],
   "source": [
    "# 使用ffmpeg（需要先安装ffmpeg）\n",
    "import os\n",
    "import subprocess\n",
    "target_directory = \"C:\\\\Users\\\\GMK_M7\\\\Music\\\\wx_record\"  # 目标目录\n",
    "def silk_to_wav_ffmpeg(silk_path, wav_path):\n",
    "    \"\"\"\n",
    "    使用ffmpeg将SILK文件转换为WAV格式\n",
    "    :param silk_path: 输入的SILK文件路径\n",
    "    :param wav_path: 输出的WAV文件路径\n",
    "    \"\"\"\n",
    "    command = ['ffmpeg', '-y', '-i', silk_path, '-ar', '24000', wav_path]\n",
    "    subprocess.run(command, check=True)\n",
    "\n",
    "\n",
    "target_file_path = os.path.join(target_directory, 'output.wav')\n",
    "# 使用示例\n",
    "silk_to_wav_ffmpeg(r'C:\\Users\\GMK_M7\\Music\\wx_record\\191.silk', target_file_path)"
   ]
  },
  {
   "cell_type": "markdown",
   "id": "f1e8c72c",
   "metadata": {},
   "source": [
    "./silk_v3_encoder.exe"
   ]
  },
  {
   "cell_type": "code",
   "execution_count": 2,
   "id": "4a379f38",
   "metadata": {},
   "outputs": [
    {
     "name": "stdout",
     "output_type": "stream",
     "text": [
      "b'\\x13\\xa2\\xec_O\\xd90T\\xbd\\xe5'\n"
     ]
    }
   ],
   "source": [
    "with open(r'C:\\Users\\GMK_M7\\Music\\wx_record\\191.silk', 'rb') as f:\n",
    "    header = f.read(10)\n",
    "print(header) "
   ]
  }
 ],
 "metadata": {
  "kernelspec": {
   "display_name": "silk_trans",
   "language": "python",
   "name": "python3"
  },
  "language_info": {
   "codemirror_mode": {
    "name": "ipython",
    "version": 3
   },
   "file_extension": ".py",
   "mimetype": "text/x-python",
   "name": "python",
   "nbconvert_exporter": "python",
   "pygments_lexer": "ipython3",
   "version": "3.11.11"
  }
 },
 "nbformat": 4,
 "nbformat_minor": 5
}
